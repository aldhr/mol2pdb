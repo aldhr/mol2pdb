{
 "cells": [
  {
   "cell_type": "code",
   "execution_count": 10,
   "metadata": {},
   "outputs": [],
   "source": [
    "##mol2pdb\n",
    "\n",
    "## library to manage files\n",
    "import os\n",
    "## library to work with pymol\n",
    "import pymol\n",
    "from pymol import cmd\n",
    "\n",
    "## What is the working directory?\n",
    "pwd = '/home/ahr/Desktop'\n",
    "## Where do you want to place final results?\n",
    "if not os.path.exists('pdbs'):\n",
    "   output = os.makedirs('pdbs')\n",
    "\n",
    "## Where are the input files?\n",
    "mol2 = 'mol2' # in desktop mol2 folder should exist\n",
    "\n",
    "# Initialize PyMOL\n",
    "pymol.finish_launching(['pymol', '-cq'])\n",
    "\n",
    "for file in os.listdir(mol2):\n",
    "   if file.endswith('.mol2'):\n",
    "     cmd.set('pdb_use_ter_records', 1)  # Use TER records for chain breaks\n",
    "     cmd.load(os.path.join(mol2, file), 'mol2_object')\n",
    "     cmd.h_add('mol2_object')  # Add hydrogen atoms\n",
    "     cmd.sort()  # Sort atoms\n",
    "     cmd.save(os.path.join('pdbs', os.path.splitext(file)[0] + '.pdb'), 'mol2_object')\n",
    "\n",
    "# Quit PyMOL\n",
    "cmd.quit()\n"
   ]
  }
 ],
 "metadata": {
  "kernelspec": {
   "display_name": "Python 3",
   "language": "python",
   "name": "python3"
  },
  "language_info": {
   "codemirror_mode": {
    "name": "ipython",
    "version": 3
   },
   "file_extension": ".py",
   "mimetype": "text/x-python",
   "name": "python",
   "nbconvert_exporter": "python",
   "pygments_lexer": "ipython3",
   "version": "3.10.6"
  },
  "orig_nbformat": 4
 },
 "nbformat": 4,
 "nbformat_minor": 2
}
